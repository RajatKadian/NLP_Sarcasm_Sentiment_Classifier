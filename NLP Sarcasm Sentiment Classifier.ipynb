{
 "cells": [
  {
   "cell_type": "code",
   "execution_count": 46,
   "id": "3bb1700e",
   "metadata": {},
   "outputs": [],
   "source": [
    "from tensorflow.keras.preprocessing.text import Tokenizer\n",
    "from tensorflow.keras.preprocessing.sequence import pad_sequences"
   ]
  },
  {
   "cell_type": "code",
   "execution_count": 35,
   "id": "70bc362f",
   "metadata": {},
   "outputs": [],
   "source": [
    "sentences = [\n",
    "    'I love my dog',\n",
    "    'i love my cat',\n",
    "    'yo yo hello cat rajat'\n",
    "]"
   ]
  },
  {
   "cell_type": "code",
   "execution_count": 36,
   "id": "934f7ce1",
   "metadata": {},
   "outputs": [],
   "source": [
    "tokenizer = Tokenizer(num_words=100)"
   ]
  },
  {
   "cell_type": "code",
   "execution_count": 37,
   "id": "5941877f",
   "metadata": {},
   "outputs": [],
   "source": [
    "tokenizer.fit_on_texts(sentences)"
   ]
  },
  {
   "cell_type": "code",
   "execution_count": 38,
   "id": "c81e1f18",
   "metadata": {},
   "outputs": [],
   "source": [
    "word_index = tokenizer.word_index"
   ]
  },
  {
   "cell_type": "code",
   "execution_count": 39,
   "id": "e9b7ce77",
   "metadata": {},
   "outputs": [
    {
     "data": {
      "text/plain": [
       "{'i': 1,\n",
       " 'love': 2,\n",
       " 'my': 3,\n",
       " 'cat': 4,\n",
       " 'yo': 5,\n",
       " 'dog': 6,\n",
       " 'hello': 7,\n",
       " 'rajat': 8}"
      ]
     },
     "execution_count": 39,
     "metadata": {},
     "output_type": "execute_result"
    }
   ],
   "source": [
    "word_index"
   ]
  },
  {
   "cell_type": "code",
   "execution_count": 40,
   "id": "9c3cc2ba",
   "metadata": {},
   "outputs": [],
   "source": [
    "sequences = tokenizer.texts_to_sequences(sentences)"
   ]
  },
  {
   "cell_type": "code",
   "execution_count": 41,
   "id": "3229b31c",
   "metadata": {},
   "outputs": [
    {
     "data": {
      "text/plain": [
       "[[1, 2, 3, 6], [1, 2, 3, 4], [5, 5, 7, 4, 8]]"
      ]
     },
     "execution_count": 41,
     "metadata": {},
     "output_type": "execute_result"
    }
   ],
   "source": [
    "sequences"
   ]
  },
  {
   "cell_type": "code",
   "execution_count": 42,
   "id": "b96cfd02",
   "metadata": {},
   "outputs": [],
   "source": [
    "padded = pad_sequences(sequences)"
   ]
  },
  {
   "cell_type": "code",
   "execution_count": 43,
   "id": "00bba203",
   "metadata": {},
   "outputs": [
    {
     "data": {
      "text/plain": [
       "array([[0, 1, 2, 3, 6],\n",
       "       [0, 1, 2, 3, 4],\n",
       "       [5, 5, 7, 4, 8]])"
      ]
     },
     "execution_count": 43,
     "metadata": {},
     "output_type": "execute_result"
    }
   ],
   "source": [
    "padded"
   ]
  },
  {
   "cell_type": "code",
   "execution_count": 52,
   "id": "e9b4468d",
   "metadata": {},
   "outputs": [],
   "source": [
    "##############   sarcastic = 1, not sarcastic = 0"
   ]
  },
  {
   "cell_type": "markdown",
   "id": "ec311d2d",
   "metadata": {},
   "source": [
    "## NLP Sentiment Classifier"
   ]
  },
  {
   "cell_type": "code",
   "execution_count": 81,
   "id": "3555b850",
   "metadata": {},
   "outputs": [],
   "source": [
    "import json\n",
    "import pandas as pd\n",
    "import seaborn as sns\n",
    "import json\n",
    "import tensorflow as tf\n",
    "\n",
    "from tensorflow.keras.preprocessing.text import Tokenizer\n",
    "from tensorflow.keras.preprocessing.sequence import pad_sequences"
   ]
  },
  {
   "cell_type": "code",
   "execution_count": 82,
   "id": "8531c40e",
   "metadata": {},
   "outputs": [],
   "source": [
    "import pandas as pd\n",
    "\n",
    "df = pd.read_json(\"Sarcasm_Headlines_Dataset.json\", lines=True)\n"
   ]
  },
  {
   "cell_type": "code",
   "execution_count": 83,
   "id": "8719682d",
   "metadata": {},
   "outputs": [
    {
     "data": {
      "text/html": [
       "<div>\n",
       "<style scoped>\n",
       "    .dataframe tbody tr th:only-of-type {\n",
       "        vertical-align: middle;\n",
       "    }\n",
       "\n",
       "    .dataframe tbody tr th {\n",
       "        vertical-align: top;\n",
       "    }\n",
       "\n",
       "    .dataframe thead th {\n",
       "        text-align: right;\n",
       "    }\n",
       "</style>\n",
       "<table border=\"1\" class=\"dataframe\">\n",
       "  <thead>\n",
       "    <tr style=\"text-align: right;\">\n",
       "      <th></th>\n",
       "      <th>article_link</th>\n",
       "      <th>headline</th>\n",
       "      <th>is_sarcastic</th>\n",
       "    </tr>\n",
       "  </thead>\n",
       "  <tbody>\n",
       "    <tr>\n",
       "      <th>0</th>\n",
       "      <td>https://www.huffingtonpost.com/entry/versace-b...</td>\n",
       "      <td>former versace store clerk sues over secret 'b...</td>\n",
       "      <td>0</td>\n",
       "    </tr>\n",
       "    <tr>\n",
       "      <th>1</th>\n",
       "      <td>https://www.huffingtonpost.com/entry/roseanne-...</td>\n",
       "      <td>the 'roseanne' revival catches up to our thorn...</td>\n",
       "      <td>0</td>\n",
       "    </tr>\n",
       "    <tr>\n",
       "      <th>2</th>\n",
       "      <td>https://local.theonion.com/mom-starting-to-fea...</td>\n",
       "      <td>mom starting to fear son's web series closest ...</td>\n",
       "      <td>1</td>\n",
       "    </tr>\n",
       "    <tr>\n",
       "      <th>3</th>\n",
       "      <td>https://politics.theonion.com/boehner-just-wan...</td>\n",
       "      <td>boehner just wants wife to listen, not come up...</td>\n",
       "      <td>1</td>\n",
       "    </tr>\n",
       "    <tr>\n",
       "      <th>4</th>\n",
       "      <td>https://www.huffingtonpost.com/entry/jk-rowlin...</td>\n",
       "      <td>j.k. rowling wishes snape happy birthday in th...</td>\n",
       "      <td>0</td>\n",
       "    </tr>\n",
       "    <tr>\n",
       "      <th>...</th>\n",
       "      <td>...</td>\n",
       "      <td>...</td>\n",
       "      <td>...</td>\n",
       "    </tr>\n",
       "    <tr>\n",
       "      <th>26704</th>\n",
       "      <td>https://www.huffingtonpost.com/entry/american-...</td>\n",
       "      <td>american politics in moral free-fall</td>\n",
       "      <td>0</td>\n",
       "    </tr>\n",
       "    <tr>\n",
       "      <th>26705</th>\n",
       "      <td>https://www.huffingtonpost.com/entry/americas-...</td>\n",
       "      <td>america's best 20 hikes</td>\n",
       "      <td>0</td>\n",
       "    </tr>\n",
       "    <tr>\n",
       "      <th>26706</th>\n",
       "      <td>https://www.huffingtonpost.com/entry/reparatio...</td>\n",
       "      <td>reparations and obama</td>\n",
       "      <td>0</td>\n",
       "    </tr>\n",
       "    <tr>\n",
       "      <th>26707</th>\n",
       "      <td>https://www.huffingtonpost.com/entry/israeli-b...</td>\n",
       "      <td>israeli ban targeting boycott supporters raise...</td>\n",
       "      <td>0</td>\n",
       "    </tr>\n",
       "    <tr>\n",
       "      <th>26708</th>\n",
       "      <td>https://www.huffingtonpost.com/entry/gourmet-g...</td>\n",
       "      <td>gourmet gifts for the foodie 2014</td>\n",
       "      <td>0</td>\n",
       "    </tr>\n",
       "  </tbody>\n",
       "</table>\n",
       "<p>26709 rows × 3 columns</p>\n",
       "</div>"
      ],
      "text/plain": [
       "                                            article_link  ... is_sarcastic\n",
       "0      https://www.huffingtonpost.com/entry/versace-b...  ...            0\n",
       "1      https://www.huffingtonpost.com/entry/roseanne-...  ...            0\n",
       "2      https://local.theonion.com/mom-starting-to-fea...  ...            1\n",
       "3      https://politics.theonion.com/boehner-just-wan...  ...            1\n",
       "4      https://www.huffingtonpost.com/entry/jk-rowlin...  ...            0\n",
       "...                                                  ...  ...          ...\n",
       "26704  https://www.huffingtonpost.com/entry/american-...  ...            0\n",
       "26705  https://www.huffingtonpost.com/entry/americas-...  ...            0\n",
       "26706  https://www.huffingtonpost.com/entry/reparatio...  ...            0\n",
       "26707  https://www.huffingtonpost.com/entry/israeli-b...  ...            0\n",
       "26708  https://www.huffingtonpost.com/entry/gourmet-g...  ...            0\n",
       "\n",
       "[26709 rows x 3 columns]"
      ]
     },
     "execution_count": 83,
     "metadata": {},
     "output_type": "execute_result"
    }
   ],
   "source": [
    "df"
   ]
  },
  {
   "cell_type": "code",
   "execution_count": 84,
   "id": "94f6be75",
   "metadata": {},
   "outputs": [
    {
     "data": {
      "text/plain": [
       "(26709, 3)"
      ]
     },
     "execution_count": 84,
     "metadata": {},
     "output_type": "execute_result"
    }
   ],
   "source": [
    "df.shape"
   ]
  },
  {
   "cell_type": "code",
   "execution_count": 85,
   "id": "5bb57188",
   "metadata": {},
   "outputs": [
    {
     "data": {
      "text/plain": [
       "article_link    0\n",
       "headline        0\n",
       "is_sarcastic    0\n",
       "dtype: int64"
      ]
     },
     "execution_count": 85,
     "metadata": {},
     "output_type": "execute_result"
    }
   ],
   "source": [
    "df.isnull().sum()"
   ]
  },
  {
   "cell_type": "code",
   "execution_count": 86,
   "id": "6df59383",
   "metadata": {},
   "outputs": [
    {
     "data": {
      "text/plain": [
       "<Axes: xlabel='is_sarcastic', ylabel='Count'>"
      ]
     },
     "execution_count": 86,
     "metadata": {},
     "output_type": "execute_result"
    },
    {
     "data": {
      "image/png": "[encoded data removed]",
      "text/plain": [
       "<Figure size 640x480 with 1 Axes>"
      ]
     },
     "metadata": {},
     "output_type": "display_data"
    }
   ],
   "source": [
    "sns.histplot(df.is_sarcastic)"
   ]
  },
  {
   "cell_type": "code",
   "execution_count": 87,
   "id": "37c41467",
   "metadata": {},
   "outputs": [],
   "source": [
    "from sklearn.model_selection import train_test_split"
   ]
  },
  {
   "cell_type": "code",
   "execution_count": 103,
   "id": "a9ac86b2",
   "metadata": {},
   "outputs": [],
   "source": [
    "features = df['headline']\n",
    "target = df['is_sarcastic']"
   ]
  },
  {
   "cell_type": "code",
   "execution_count": 104,
   "id": "a30d0a53",
   "metadata": {},
   "outputs": [],
   "source": [
    "X_train, X_test, Y_train, Y_test = train_test_split(features, target, test_size=0.25, random_state=42)"
   ]
  },
  {
   "cell_type": "code",
   "execution_count": 105,
   "id": "0f827581",
   "metadata": {},
   "outputs": [],
   "source": [
    "######"
   ]
  },
  {
   "cell_type": "code",
   "execution_count": 91,
   "id": "60175584",
   "metadata": {},
   "outputs": [],
   "source": [
    "vocab_size = 10000\n",
    "embedding_dim = 16\n",
    "max_length = 100\n",
    "trunc_type='post'\n",
    "padding_type='post'\n",
    "oov_tok = \"<OOV>\"\n",
    "training_size = 20000"
   ]
  },
  {
   "cell_type": "code",
   "execution_count": 109,
   "id": "44f96f18",
   "metadata": {},
   "outputs": [],
   "source": [
    "tokenizer = Tokenizer(num_words=vocab_size, oov_token=oov_tok)\n",
    "tokenizer.fit_on_texts(X_train)\n",
    "\n",
    "word_index = tokenizer.word_index\n",
    "\n",
    "training_sequences = tokenizer.texts_to_sequences(X_train)\n",
    "training_padded = pad_sequences(training_sequences, maxlen=max_length, padding=padding_type, truncating=trunc_type)\n",
    "\n",
    "testing_sequences = tokenizer.texts_to_sequences(X_test)\n",
    "testing_padded = pad_sequences(testing_sequences, maxlen=max_length, padding=padding_type, truncating=trunc_type)\n"
   ]
  },
  {
   "cell_type": "code",
   "execution_count": 132,
   "id": "bd7d3da5",
   "metadata": {},
   "outputs": [
    {
     "name": "stdout",
     "output_type": "stream",
     "text": [
      "(20031, 100)\n",
      "(20031,)\n",
      "(6678, 100)\n",
      "(6678,)\n"
     ]
    }
   ],
   "source": [
    "print(training_padded.shape)\n",
    "print(Y_train.shape)\n",
    "print(testing_padded.shape)\n",
    "print(Y_test.shape)\n"
   ]
  },
  {
   "cell_type": "code",
   "execution_count": 111,
   "id": "e0890d1c",
   "metadata": {},
   "outputs": [],
   "source": [
    "model = tf.keras.Sequential([\n",
    "    tf.keras.layers.Embedding(vocab_size, embedding_dim, input_length=max_length),\n",
    "    tf.keras.layers.GlobalAveragePooling1D(),\n",
    "    tf.keras.layers.Dense(24, activation='relu'),\n",
    "    tf.keras.layers.Dense(1, activation='sigmoid')\n",
    "])\n",
    "model.compile(loss='binary_crossentropy',optimizer='adam',metrics=['accuracy'])"
   ]
  },
  {
   "cell_type": "code",
   "execution_count": 112,
   "id": "d569d5aa",
   "metadata": {},
   "outputs": [
    {
     "name": "stdout",
     "output_type": "stream",
     "text": [
      "Model: \"sequential_1\"\n",
      "_________________________________________________________________\n",
      " Layer (type)                Output Shape              Param #   \n",
      "=================================================================\n",
      " embedding_1 (Embedding)     (None, 100, 16)           160000    \n",
      "                                                                 \n",
      " global_average_pooling1d_1   (None, 16)               0         \n",
      " (GlobalAveragePooling1D)                                        \n",
      "                                                                 \n",
      " dense_2 (Dense)             (None, 24)                408       \n",
      "                                                                 \n",
      " dense_3 (Dense)             (None, 1)                 25        \n",
      "                                                                 \n",
      "=================================================================\n",
      "Total params: 160,433\n",
      "Trainable params: 160,433\n",
      "Non-trainable params: 0\n",
      "_________________________________________________________________\n"
     ]
    }
   ],
   "source": [
    "model.summary()\n"
   ]
  },
  {
   "cell_type": "code",
   "execution_count": 113,
   "id": "1bbfca28",
   "metadata": {},
   "outputs": [],
   "source": [
    "###### fit the model"
   ]
  },
  {
   "cell_type": "code",
   "execution_count": 114,
   "id": "e78c4eca",
   "metadata": {},
   "outputs": [
    {
     "name": "stdout",
     "output_type": "stream",
     "text": [
      "Epoch 1/30\n",
      "626/626 - 2s - loss: 0.6675 - accuracy: 0.5847 - val_loss: 0.5880 - val_accuracy: 0.6953 - 2s/epoch - 4ms/step\n",
      "Epoch 2/30\n",
      "626/626 - 1s - loss: 0.4299 - accuracy: 0.8267 - val_loss: 0.3774 - val_accuracy: 0.8387 - 1s/epoch - 2ms/step\n",
      "Epoch 3/30\n",
      "626/626 - 1s - loss: 0.3050 - accuracy: 0.8791 - val_loss: 0.3420 - val_accuracy: 0.8556 - 1s/epoch - 2ms/step\n",
      "Epoch 4/30\n",
      "626/626 - 2s - loss: 0.2560 - accuracy: 0.8985 - val_loss: 0.3461 - val_accuracy: 0.8485 - 2s/epoch - 2ms/step\n",
      "Epoch 5/30\n",
      "626/626 - 2s - loss: 0.2198 - accuracy: 0.9162 - val_loss: 0.3355 - val_accuracy: 0.8562 - 2s/epoch - 2ms/step\n",
      "Epoch 6/30\n",
      "626/626 - 2s - loss: 0.1943 - accuracy: 0.9269 - val_loss: 0.3445 - val_accuracy: 0.8561 - 2s/epoch - 3ms/step\n",
      "Epoch 7/30\n",
      "626/626 - 2s - loss: 0.1724 - accuracy: 0.9358 - val_loss: 0.3552 - val_accuracy: 0.8555 - 2s/epoch - 3ms/step\n",
      "Epoch 8/30\n",
      "626/626 - 1s - loss: 0.1543 - accuracy: 0.9445 - val_loss: 0.3744 - val_accuracy: 0.8528 - 1s/epoch - 2ms/step\n",
      "Epoch 9/30\n",
      "626/626 - 2s - loss: 0.1389 - accuracy: 0.9510 - val_loss: 0.3885 - val_accuracy: 0.8555 - 2s/epoch - 2ms/step\n",
      "Epoch 10/30\n",
      "626/626 - 1s - loss: 0.1271 - accuracy: 0.9543 - val_loss: 0.4106 - val_accuracy: 0.8518 - 1s/epoch - 2ms/step\n",
      "Epoch 11/30\n",
      "626/626 - 1s - loss: 0.1157 - accuracy: 0.9594 - val_loss: 0.4472 - val_accuracy: 0.8444 - 1s/epoch - 2ms/step\n",
      "Epoch 12/30\n",
      "626/626 - 2s - loss: 0.1025 - accuracy: 0.9656 - val_loss: 0.4642 - val_accuracy: 0.8473 - 2s/epoch - 2ms/step\n",
      "Epoch 13/30\n",
      "626/626 - 2s - loss: 0.0950 - accuracy: 0.9671 - val_loss: 0.4886 - val_accuracy: 0.8429 - 2s/epoch - 2ms/step\n",
      "Epoch 14/30\n",
      "626/626 - 2s - loss: 0.0889 - accuracy: 0.9702 - val_loss: 0.5196 - val_accuracy: 0.8393 - 2s/epoch - 2ms/step\n",
      "Epoch 15/30\n",
      "626/626 - 2s - loss: 0.0791 - accuracy: 0.9738 - val_loss: 0.5628 - val_accuracy: 0.8350 - 2s/epoch - 3ms/step\n",
      "Epoch 16/30\n",
      "626/626 - 2s - loss: 0.0738 - accuracy: 0.9758 - val_loss: 0.6437 - val_accuracy: 0.8294 - 2s/epoch - 3ms/step\n",
      "Epoch 17/30\n",
      "626/626 - 2s - loss: 0.0679 - accuracy: 0.9776 - val_loss: 0.6148 - val_accuracy: 0.8339 - 2s/epoch - 3ms/step\n",
      "Epoch 18/30\n",
      "626/626 - 2s - loss: 0.0617 - accuracy: 0.9807 - val_loss: 0.6581 - val_accuracy: 0.8291 - 2s/epoch - 3ms/step\n",
      "Epoch 19/30\n",
      "626/626 - 2s - loss: 0.0558 - accuracy: 0.9833 - val_loss: 0.7010 - val_accuracy: 0.8278 - 2s/epoch - 3ms/step\n",
      "Epoch 20/30\n",
      "626/626 - 2s - loss: 0.0540 - accuracy: 0.9831 - val_loss: 0.7311 - val_accuracy: 0.8294 - 2s/epoch - 3ms/step\n",
      "Epoch 21/30\n",
      "626/626 - 2s - loss: 0.0499 - accuracy: 0.9845 - val_loss: 0.7675 - val_accuracy: 0.8272 - 2s/epoch - 3ms/step\n",
      "Epoch 22/30\n",
      "626/626 - 2s - loss: 0.0461 - accuracy: 0.9863 - val_loss: 0.8100 - val_accuracy: 0.8245 - 2s/epoch - 3ms/step\n",
      "Epoch 23/30\n",
      "626/626 - 2s - loss: 0.0438 - accuracy: 0.9869 - val_loss: 0.8764 - val_accuracy: 0.8191 - 2s/epoch - 3ms/step\n",
      "Epoch 24/30\n",
      "626/626 - 2s - loss: 0.0392 - accuracy: 0.9887 - val_loss: 0.8728 - val_accuracy: 0.8237 - 2s/epoch - 3ms/step\n",
      "Epoch 25/30\n",
      "626/626 - 2s - loss: 0.0365 - accuracy: 0.9900 - val_loss: 0.9329 - val_accuracy: 0.8203 - 2s/epoch - 3ms/step\n",
      "Epoch 26/30\n",
      "626/626 - 2s - loss: 0.0324 - accuracy: 0.9909 - val_loss: 0.9560 - val_accuracy: 0.8209 - 2s/epoch - 3ms/step\n",
      "Epoch 27/30\n",
      "626/626 - 1s - loss: 0.0319 - accuracy: 0.9909 - val_loss: 0.9934 - val_accuracy: 0.8199 - 1s/epoch - 2ms/step\n",
      "Epoch 28/30\n",
      "626/626 - 1s - loss: 0.0272 - accuracy: 0.9929 - val_loss: 1.0541 - val_accuracy: 0.8181 - 1s/epoch - 2ms/step\n",
      "Epoch 29/30\n",
      "626/626 - 1s - loss: 0.0264 - accuracy: 0.9926 - val_loss: 1.0887 - val_accuracy: 0.8191 - 1s/epoch - 2ms/step\n",
      "Epoch 30/30\n",
      "626/626 - 1s - loss: 0.0241 - accuracy: 0.9933 - val_loss: 1.1296 - val_accuracy: 0.8179 - 1s/epoch - 2ms/step\n"
     ]
    }
   ],
   "source": [
    "num_epochs = 30\n",
    "history = model.fit(training_padded, Y_train, epochs=num_epochs, validation_data=(testing_padded, Y_test), verbose=2)\n"
   ]
  },
  {
   "cell_type": "code",
   "execution_count": 116,
   "id": "f692e0c7",
   "metadata": {},
   "outputs": [
    {
     "data": {
      "image/png": "[encoded data removed]",
      "text/plain": [
       "<Figure size 640x480 with 1 Axes>"
      ]
     },
     "metadata": {},
     "output_type": "display_data"
    },
    {
     "data": {
      "image/png": "[encoded data removed]",
      "text/plain": [
       "<Figure size 640x480 with 1 Axes>"
      ]
     },
     "metadata": {},
     "output_type": "display_data"
    }
   ],
   "source": [
    "import matplotlib.pyplot as plt\n",
    "\n",
    "\n",
    "def plot_graphs(history, string):\n",
    "  plt.plot(history.history[string])\n",
    "  plt.plot(history.history['val_'+string])\n",
    "  plt.xlabel(\"Epochs\")\n",
    "  plt.ylabel(string)\n",
    "  plt.legend([string, 'val_'+string])\n",
    "  plt.show()\n",
    "  \n",
    "plot_graphs(history, \"accuracy\")\n",
    "plot_graphs(history, \"loss\")"
   ]
  },
  {
   "cell_type": "code",
   "execution_count": 117,
   "id": "d98adc00",
   "metadata": {},
   "outputs": [],
   "source": [
    "###### predict"
   ]
  },
  {
   "cell_type": "code",
   "execution_count": 125,
   "id": "2541d46d",
   "metadata": {},
   "outputs": [
    {
     "name": "stdout",
     "output_type": "stream",
     "text": [
      "209/209 [==============================] - 0s 961us/step\n"
     ]
    }
   ],
   "source": [
    "ypred = model.predict(testing_padded)"
   ]
  },
  {
   "cell_type": "code",
   "execution_count": 128,
   "id": "309636c0",
   "metadata": {},
   "outputs": [
    {
     "data": {
      "text/plain": [
       "array([[9.9999976e-01],\n",
       "       [6.6589698e-09],\n",
       "       [2.8307443e-02],\n",
       "       ...,\n",
       "       [1.2756002e-01],\n",
       "       [1.3814750e-09],\n",
       "       [4.8523616e-02]], dtype=float32)"
      ]
     },
     "execution_count": 128,
     "metadata": {},
     "output_type": "execute_result"
    }
   ],
   "source": [
    "ypred"
   ]
  },
  {
   "cell_type": "code",
   "execution_count": 129,
   "id": "0032c716",
   "metadata": {},
   "outputs": [],
   "source": [
    "threshold = 0.7  # You can adjust this threshold as needed\n",
    "binary_predictions = (ypred > threshold).astype(int)\n",
    "\n",
    "# 'binary_predictions' now contains the binary predictions based on the threshold.\n"
   ]
  },
  {
   "cell_type": "code",
   "execution_count": 130,
   "id": "a5ee5c0b",
   "metadata": {},
   "outputs": [
    {
     "data": {
      "text/plain": [
       "array([[1],\n",
       "       [0],\n",
       "       [0],\n",
       "       ...,\n",
       "       [0],\n",
       "       [0],\n",
       "       [0]])"
      ]
     },
     "execution_count": 130,
     "metadata": {},
     "output_type": "execute_result"
    }
   ],
   "source": [
    "binary_predictions"
   ]
  },
  {
   "cell_type": "code",
   "execution_count": null,
   "id": "1f2cc41a",
   "metadata": {},
   "outputs": [],
   "source": []
  }
 ],
 "metadata": {
  "kernelspec": {
   "display_name": "Python 3 (ipykernel)",
   "language": "python",
   "name": "python3"
  },
  "language_info": {
   "codemirror_mode": {
    "name": "ipython",
    "version": 3
   },
   "file_extension": ".py",
   "mimetype": "text/x-python",
   "name": "python",
   "nbconvert_exporter": "python",
   "pygments_lexer": "ipython3",
   "version": "3.10.9"
  }
 },
 "nbformat": 4,
 "nbformat_minor": 5
}
